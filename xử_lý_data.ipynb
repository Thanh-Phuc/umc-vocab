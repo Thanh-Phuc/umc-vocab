{
 "cells": [
  {
   "cell_type": "markdown",
   "id": "0c7ca034",
   "metadata": {},
   "source": [
    "# tác file concept"
   ]
  },
  {
   "cell_type": "code",
   "execution_count": 1,
   "id": "3951027a",
   "metadata": {},
   "outputs": [],
   "source": [
    "#load các thư viện\n",
    "import pandas as pd\n",
    "import numpy as np"
   ]
  },
  {
   "cell_type": "code",
   "execution_count": 10,
   "id": "f1a0c27c",
   "metadata": {},
   "outputs": [],
   "source": [
    "#def load file\n",
    "def load_data(file_path):\n",
    "    df = pd.read_csv(file_path, sep ='\\t')\n",
    "\n",
    "    return df\n"
   ]
  },
  {
   "cell_type": "code",
   "execution_count": 11,
   "id": "c6697d5e",
   "metadata": {},
   "outputs": [
    {
     "name": "stderr",
     "output_type": "stream",
     "text": [
      "/var/folders/kg/98ws3g2n1w7fb1xxx9qrd3080000gn/T/ipykernel_36739/1916487372.py:3: DtypeWarning: Columns (5,6,9) have mixed types. Specify dtype option on import or set low_memory=False.\n",
      "  df = pd.read_csv(file_path, sep ='\\t')\n"
     ]
    }
   ],
   "source": [
    "df = load_data('data/concept.csv')"
   ]
  },
  {
   "cell_type": "code",
   "execution_count": 12,
   "id": "a38b9ad6",
   "metadata": {},
   "outputs": [],
   "source": [
    "# groupby vocabulary_id để đếm count\n",
    "df_grouped = df.groupby('vocabulary_id').size().reset_index(name='count')"
   ]
  },
  {
   "cell_type": "code",
   "execution_count": 14,
   "id": "6c7cf3e9",
   "metadata": {},
   "outputs": [],
   "source": [
    "# tạo list từ cột vocabulary_id\n",
    "vocabulary_id_list = df_grouped['vocabulary_id'].tolist()\n",
    "# tách df thành từng df_vocabulary_id theo từng vocabulary_id_list\n",
    "for loại_vocabulary in vocabulary_id_list:\n",
    "    tên_file_mới = f'df_grouped_{loại_vocabulary}.csv'\n",
    "    # lưu lại thành file csv\n",
    "    df_vocabulary = df[df['vocabulary_id'] == loại_vocabulary]\n",
    "    df_vocabulary.to_csv(f'Data/{tên_file_mới}', index=False)"
   ]
  }
 ],
 "metadata": {
  "kernelspec": {
   "display_name": "Python 3",
   "language": "python",
   "name": "python3"
  },
  "language_info": {
   "codemirror_mode": {
    "name": "ipython",
    "version": 3
   },
   "file_extension": ".py",
   "mimetype": "text/x-python",
   "name": "python",
   "nbconvert_exporter": "python",
   "pygments_lexer": "ipython3",
   "version": "3.13.2"
  }
 },
 "nbformat": 4,
 "nbformat_minor": 5
}
